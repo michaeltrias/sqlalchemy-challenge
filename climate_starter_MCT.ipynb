{
 "cells": [
  {
   "cell_type": "code",
   "execution_count": 1,
   "metadata": {},
   "outputs": [],
   "source": [
    "%matplotlib inline\n",
    "from matplotlib import style\n",
    "style.use('fivethirtyeight')\n",
    "import matplotlib.pyplot as plt"
   ]
  },
  {
   "cell_type": "code",
   "execution_count": 2,
   "metadata": {},
   "outputs": [],
   "source": [
    "import numpy as np\n",
    "import pandas as pd"
   ]
  },
  {
   "cell_type": "code",
   "execution_count": 3,
   "metadata": {},
   "outputs": [],
   "source": [
    "import datetime as dt"
   ]
  },
  {
   "cell_type": "markdown",
   "metadata": {},
   "source": [
    "# Reflect Tables into SQLAlchemy ORM"
   ]
  },
  {
   "cell_type": "code",
   "execution_count": 4,
   "metadata": {},
   "outputs": [],
   "source": [
    "# Python SQL toolkit and Object Relational Mapper\n",
    "import sqlalchemy\n",
    "from sqlalchemy.ext.automap import automap_base\n",
    "from sqlalchemy.orm import Session\n",
    "from sqlalchemy import create_engine, func"
   ]
  },
  {
   "cell_type": "code",
   "execution_count": 5,
   "metadata": {},
   "outputs": [],
   "source": [
    "engine = create_engine(\"sqlite:///Resources/hawaii.sqlite\")\n"
   ]
  },
  {
   "cell_type": "code",
   "execution_count": 6,
   "metadata": {},
   "outputs": [],
   "source": [
    "# reflect an existing database into a new model\n",
    "\n",
    "Base = automap_base()\n",
    "\n",
    "# reflect the tables\n",
    "Base.prepare(engine, reflect = True)"
   ]
  },
  {
   "cell_type": "code",
   "execution_count": 7,
   "metadata": {},
   "outputs": [
    {
     "data": {
      "text/plain": [
       "['measurement', 'station']"
      ]
     },
     "execution_count": 7,
     "metadata": {},
     "output_type": "execute_result"
    }
   ],
   "source": [
    "# We can view all of the classes that automap found\n",
    "Base.classes.keys()"
   ]
  },
  {
   "cell_type": "code",
   "execution_count": 8,
   "metadata": {},
   "outputs": [],
   "source": [
    "# Save references to each table\n",
    "Measurement = Base.classes.measurement\n",
    "Station = Base.classes.station\n"
   ]
  },
  {
   "cell_type": "code",
   "execution_count": 9,
   "metadata": {},
   "outputs": [],
   "source": [
    "# Create our session (link) from Python to the DB\n",
    "session = Session(engine)"
   ]
  },
  {
   "cell_type": "code",
   "execution_count": 10,
   "metadata": {},
   "outputs": [
    {
     "data": {
      "text/plain": [
       "{'_sa_instance_state': <sqlalchemy.orm.state.InstanceState at 0x13e00016c88>,\n",
       " 'prcp': 0.08,\n",
       " 'station': 'USC00519397',\n",
       " 'tobs': 65.0,\n",
       " 'date': '2010-01-01',\n",
       " 'id': 1}"
      ]
     },
     "execution_count": 10,
     "metadata": {},
     "output_type": "execute_result"
    }
   ],
   "source": [
    "first_row = session.query(Measurement).first()\n",
    "first_row.__dict__"
   ]
  },
  {
   "cell_type": "code",
   "execution_count": null,
   "metadata": {},
   "outputs": [],
   "source": []
  },
  {
   "cell_type": "markdown",
   "metadata": {},
   "source": [
    "# Exploratory Climate Analysis"
   ]
  },
  {
   "cell_type": "code",
   "execution_count": 11,
   "metadata": {},
   "outputs": [
    {
     "name": "stdout",
     "output_type": "stream",
     "text": [
      "('2017-08-23', 0.0, 2724, 81.0, 'USC00519397')\n",
      "('2017-08-22', 0.0, 2723, 82.0, 'USC00519397')\n",
      "('2017-08-21', 0.0, 2722, 81.0, 'USC00519397')\n",
      "('2017-08-20', 0.0, 2721, 81.0, 'USC00519397')\n",
      "('2017-08-19', 0.0, 2720, 79.0, 'USC00519397')\n",
      "('2017-08-18', 0.0, 2719, 80.0, 'USC00519397')\n",
      "('2017-08-15', 0.02, 2718, 78.0, 'USC00519397')\n",
      "('2017-08-14', 0.0, 2717, 79.0, 'USC00519397')\n",
      "('2017-08-13', 0.0, 2716, 81.0, 'USC00519397')\n",
      "('2017-08-12', 0.0, 2715, 80.0, 'USC00519397')\n",
      "('2017-08-11', 0.0, 2714, 78.0, 'USC00519397')\n",
      "('2017-08-10', 0.0, 2713, 81.0, 'USC00519397')\n",
      "('2017-08-09', 0.0, 2712, 80.0, 'USC00519397')\n",
      "('2017-08-08', 0.0, 2711, 80.0, 'USC00519397')\n",
      "('2017-08-07', 0.0, 2710, 80.0, 'USC00519397')\n",
      "('2017-08-06', 0.0, 2709, 80.0, 'USC00519397')\n",
      "('2017-08-05', 0.0, 2708, 81.0, 'USC00519397')\n",
      "('2017-08-04', 0.02, 2707, 80.0, 'USC00519397')\n",
      "('2017-08-03', 0.0, 2706, 79.0, 'USC00519397')\n",
      "('2017-08-02', 0.0, 2705, 73.0, 'USC00519397')\n",
      "('2017-08-01', 0.02, 2704, 77.0, 'USC00519397')\n",
      "('2017-07-31', 0.0, 2703, 80.0, 'USC00519397')\n",
      "('2017-07-30', 0.0, 2702, 81.0, 'USC00519397')\n",
      "('2017-07-29', 0.0, 2701, 81.0, 'USC00519397')\n",
      "('2017-07-28', 0.0, 2700, 81.0, 'USC00519397')\n",
      "('2017-07-27', 0.0, 2699, 79.0, 'USC00519397')\n",
      "('2017-07-26', 0.0, 2698, 82.0, 'USC00519397')\n",
      "('2017-07-25', 0.0, 2697, 80.0, 'USC00519397')\n",
      "('2017-07-24', 0.05, 2696, 78.0, 'USC00519397')\n",
      "('2017-07-23', 0.0, 2695, 81.0, 'USC00519397')\n",
      "('2017-07-22', 0.03, 2694, 81.0, 'USC00519397')\n",
      "('2017-07-21', 0.0, 2693, 80.0, 'USC00519397')\n",
      "('2017-07-20', 0.03, 2692, 80.0, 'USC00519397')\n",
      "('2017-07-18', 0.05, 2691, 80.0, 'USC00519397')\n",
      "('2017-07-17', 0.03, 2690, 80.0, 'USC00519397')\n",
      "('2017-07-16', 0.02, 2689, 78.0, 'USC00519397')\n",
      "('2017-07-15', 0.0, 2688, 80.0, 'USC00519397')\n",
      "('2017-07-14', 0.02, 2687, 81.0, 'USC00519397')\n",
      "('2017-07-13', 0.07, 2686, 79.0, 'USC00519397')\n",
      "('2017-07-12', 0.0, 2685, 81.0, 'USC00519397')\n",
      "('2017-07-11', 0.0, 2684, 78.0, 'USC00519397')\n",
      "('2017-07-10', 0.0, 2683, 80.0, 'USC00519397')\n",
      "('2017-07-09', 0.0, 2682, 80.0, 'USC00519397')\n",
      "('2017-07-08', 0.0, 2681, 80.0, 'USC00519397')\n",
      "('2017-07-07', 0.0, 2680, 79.0, 'USC00519397')\n",
      "('2017-07-06', 0.0, 2679, 81.0, 'USC00519397')\n",
      "('2017-07-05', 0.0, 2678, 80.0, 'USC00519397')\n",
      "('2017-07-04', 0.04, 2677, 80.0, 'USC00519397')\n",
      "('2017-07-03', 0.04, 2676, 78.0, 'USC00519397')\n",
      "('2017-07-02', 0.02, 2675, 80.0, 'USC00519397')\n",
      "('2017-07-01', 0.02, 2674, 80.0, 'USC00519397')\n",
      "('2017-06-30', 0.08, 2673, 75.0, 'USC00519397')\n",
      "('2017-06-29', 0.0, 2672, 79.0, 'USC00519397')\n",
      "('2017-06-28', 0.0, 2671, 79.0, 'USC00519397')\n",
      "('2017-06-27', 0.0, 2670, 80.0, 'USC00519397')\n",
      "('2017-06-26', 0.0, 2669, 81.0, 'USC00519397')\n",
      "('2017-06-25', 0.0, 2668, 80.0, 'USC00519397')\n",
      "('2017-06-24', 0.06, 2667, 80.0, 'USC00519397')\n",
      "('2017-06-23', 0.0, 2666, 78.0, 'USC00519397')\n",
      "('2017-06-22', 0.0, 2665, 80.0, 'USC00519397')\n",
      "('2017-06-21', 0.0, 2664, 79.0, 'USC00519397')\n",
      "('2017-06-20', 0.02, 2663, 78.0, 'USC00519397')\n",
      "('2017-06-19', 0.0, 2662, 80.0, 'USC00519397')\n",
      "('2017-06-18', 0.05, 2661, 77.0, 'USC00519397')\n",
      "('2017-06-17', 0.0, 2660, 80.0, 'USC00519397')\n",
      "('2017-06-16', 0.0, 2659, 79.0, 'USC00519397')\n",
      "('2017-06-15', 0.0, 2658, 78.0, 'USC00519397')\n",
      "('2017-06-14', 0.0, 2657, 80.0, 'USC00519397')\n",
      "('2017-06-13', 0.0, 2656, 80.0, 'USC00519397')\n",
      "('2017-06-12', 0.02, 2655, 83.0, 'USC00519397')\n",
      "('2017-06-11', 0.08, 2654, 79.0, 'USC00519397')\n",
      "('2017-06-10', 0.04, 2653, 77.0, 'USC00519397')\n",
      "('2017-06-09', 0.0, 2652, 80.0, 'USC00519397')\n",
      "('2017-06-08', 0.0, 2651, 80.0, 'USC00519397')\n",
      "('2017-06-07', 0.0, 2650, 79.0, 'USC00519397')\n",
      "('2017-06-06', 0.0, 2649, 79.0, 'USC00519397')\n",
      "('2017-06-05', 0.0, 2648, 80.0, 'USC00519397')\n",
      "('2017-06-04', 0.0, 2647, 79.0, 'USC00519397')\n",
      "('2017-06-03', 0.02, 2646, 79.0, 'USC00519397')\n",
      "('2017-06-02', 0.0, 2645, 79.0, 'USC00519397')\n",
      "('2017-06-01', 0.0, 2644, 79.0, 'USC00519397')\n",
      "('2017-05-31', 0.02, 2643, 79.0, 'USC00519397')\n",
      "('2017-05-30', 0.26, 2642, 76.0, 'USC00519397')\n",
      "('2017-05-29', 0.0, 2641, 75.0, 'USC00519397')\n",
      "('2017-05-28', 0.02, 2640, 76.0, 'USC00519397')\n",
      "('2017-05-27', 0.01, 2639, 74.0, 'USC00519397')\n",
      "('2017-05-25', 0.15, 2638, 77.0, 'USC00519397')\n",
      "('2017-05-24', 0.13, 2637, 77.0, 'USC00519397')\n",
      "('2017-05-23', 0.08, 2636, 87.0, 'USC00519397')\n",
      "('2017-05-22', 0.0, 2635, 77.0, 'USC00519397')\n",
      "('2017-05-21', 0.0, 2634, 76.0, 'USC00519397')\n",
      "('2017-05-20', 0.0, 2633, 78.0, 'USC00519397')\n",
      "('2017-05-19', 0.0, 2632, 76.0, 'USC00519397')\n",
      "('2017-05-18', 0.01, 2631, 73.0, 'USC00519397')\n",
      "('2017-05-17', 0.0, 2630, 78.0, 'USC00519397')\n",
      "('2017-05-16', 0.01, 2629, 78.0, 'USC00519397')\n",
      "('2017-05-15', 0.05, 2628, 78.0, 'USC00519397')\n",
      "('2017-05-14', 0.0, 2627, 77.0, 'USC00519397')\n",
      "('2017-05-13', 0.0, 2626, 79.0, 'USC00519397')\n",
      "('2017-05-12', 0.0, 2625, 79.0, 'USC00519397')\n",
      "('2017-05-11', 0.01, 2624, 78.0, 'USC00519397')\n",
      "('2017-05-10', 0.0, 2623, 78.0, 'USC00519397')\n",
      "('2017-05-08', 0.0, 2622, 77.0, 'USC00519397')\n",
      "('2017-05-07', 0.0, 2621, 79.0, 'USC00519397')\n",
      "('2017-05-06', 0.0, 2620, 79.0, 'USC00519397')\n",
      "('2017-05-05', 0.0, 2619, 79.0, 'USC00519397')\n",
      "('2017-05-04', 0.0, 2618, 78.0, 'USC00519397')\n",
      "('2017-05-03', 0.0, 2617, 78.0, 'USC00519397')\n",
      "('2017-05-02', 0.0, 2616, 78.0, 'USC00519397')\n",
      "('2017-05-01', 0.26, 2615, 75.0, 'USC00519397')\n",
      "('2017-04-30', 0.89, 2614, 63.0, 'USC00519397')\n",
      "('2017-04-29', 0.12, 2613, 72.0, 'USC00519397')\n",
      "('2017-04-28', 0.0, 2612, 76.0, 'USC00519397')\n",
      "('2017-04-27', 0.0, 2611, 78.0, 'USC00519397')\n",
      "('2017-04-26', 0.0, 2610, 77.0, 'USC00519397')\n",
      "('2017-04-25', 0.0, 2609, 77.0, 'USC00519397')\n",
      "('2017-04-24', 0.0, 2608, 77.0, 'USC00519397')\n",
      "('2017-04-23', 0.03, 2607, 77.0, 'USC00519397')\n",
      "('2017-04-22', 0.32, 2606, 76.0, 'USC00519397')\n",
      "('2017-04-21', 0.23, 2605, 73.0, 'USC00519397')\n",
      "('2017-04-20', 0.05, 2604, 78.0, 'USC00519397')\n",
      "('2017-04-19', 0.02, 2603, 74.0, 'USC00519397')\n",
      "('2017-04-18', 0.0, 2602, 75.0, 'USC00519397')\n",
      "('2017-04-17', 0.02, 2601, 74.0, 'USC00519397')\n",
      "('2017-04-16', 0.0, 2600, 74.0, 'USC00519397')\n",
      "('2017-04-15', 0.01, 2599, 73.0, 'USC00519397')\n",
      "('2017-04-14', 0.26, 2598, 75.0, 'USC00519397')\n",
      "('2017-04-13', 0.0, 2597, 77.0, 'USC00519397')\n",
      "('2017-04-12', 0.0, 2596, 78.0, 'USC00519397')\n",
      "('2017-04-11', 0.0, 2595, 79.0, 'USC00519397')\n",
      "('2017-04-10', 0.0, 2594, 75.0, 'USC00519397')\n",
      "('2017-04-09', 0.0, 2593, 72.0, 'USC00519397')\n",
      "('2017-04-08', 0.0, 2592, 77.0, 'USC00519397')\n",
      "('2017-04-07', 0.0, 2591, 77.0, 'USC00519397')\n",
      "('2017-04-06', 0.0, 2590, 77.0, 'USC00519397')\n",
      "('2017-04-05', 0.0, 2589, 78.0, 'USC00519397')\n",
      "('2017-04-04', 0.0, 2588, 76.0, 'USC00519397')\n",
      "('2017-04-03', 0.0, 2587, 77.0, 'USC00519397')\n",
      "('2017-04-02', 0.0, 2586, 76.0, 'USC00519397')\n",
      "('2017-04-01', 0.0, 2585, 76.0, 'USC00519397')\n",
      "('2017-03-31', 0.0, 2584, 76.0, 'USC00519397')\n",
      "('2017-03-30', 0.0, 2583, 77.0, 'USC00519397')\n",
      "('2017-03-29', 0.0, 2582, 76.0, 'USC00519397')\n",
      "('2017-03-28', 0.0, 2581, 77.0, 'USC00519397')\n",
      "('2017-03-27', 0.0, 2580, 75.0, 'USC00519397')\n",
      "('2017-03-26', 0.0, 2579, 76.0, 'USC00519397')\n",
      "('2017-03-25', 0.0, 2578, 76.0, 'USC00519397')\n",
      "('2017-03-24', 0.02, 2577, 73.0, 'USC00519397')\n",
      "('2017-03-23', 0.0, 2576, 70.0, 'USC00519397')\n",
      "('2017-03-22', 0.0, 2575, 74.0, 'USC00519397')\n",
      "('2017-03-21', 0.0, 2574, 75.0, 'USC00519397')\n",
      "('2017-03-20', 0.0, 2573, 75.0, 'USC00519397')\n",
      "('2017-03-19', 0.0, 2572, 73.0, 'USC00519397')\n",
      "('2017-03-18', 0.0, 2571, 69.0, 'USC00519397')\n",
      "('2017-03-17', 0.0, 2570, 72.0, 'USC00519397')\n",
      "('2017-03-16', 0.0, 2569, 70.0, 'USC00519397')\n",
      "('2017-03-15', 0.0, 2568, 71.0, 'USC00519397')\n",
      "('2017-03-14', 0.0, 2567, 71.0, 'USC00519397')\n",
      "('2017-03-13', 0.0, 2566, 71.0, 'USC00519397')\n",
      "('2017-03-12', 0.0, 2565, 74.0, 'USC00519397')\n",
      "('2017-03-11', 0.0, 2564, 71.0, 'USC00519397')\n",
      "('2017-03-10', 0.0, 2563, 68.0, 'USC00519397')\n",
      "('2017-03-09', 0.0, 2562, 72.0, 'USC00519397')\n",
      "('2017-03-08', 0.0, 2561, 71.0, 'USC00519397')\n",
      "('2017-03-07', 0.0, 2560, 68.0, 'USC00519397')\n",
      "('2017-03-06', 0.0, 2559, 69.0, 'USC00519397')\n",
      "('2017-03-05', 0.35, 2558, 71.0, 'USC00519397')\n",
      "('2017-03-04', 0.0, 2557, 74.0, 'USC00519397')\n",
      "('2017-03-03', 0.47, 2556, 69.0, 'USC00519397')\n",
      "('2017-03-02', 0.73, 2555, 73.0, 'USC00519397')\n",
      "('2017-03-01', 1.19, 2554, 66.0, 'USC00519397')\n",
      "('2017-02-28', 0.0, 2553, 74.0, 'USC00519397')\n",
      "('2017-02-27', 0.0, 2552, 72.0, 'USC00519397')\n",
      "('2017-02-26', 0.0, 2551, 65.0, 'USC00519397')\n",
      "('2017-02-25', 0.03, 2550, 64.0, 'USC00519397')\n",
      "('2017-02-24', 0.0, 2549, 70.0, 'USC00519397')\n",
      "('2017-02-23', 0.01, 2548, 74.0, 'USC00519397')\n",
      "('2017-02-22', 0.06, 2547, 72.0, 'USC00519397')\n",
      "('2017-02-21', 0.06, 2546, 70.0, 'USC00519397')\n",
      "('2017-02-20', 0.0, 2545, 71.0, 'USC00519397')\n",
      "('2017-02-19', 0.0, 2544, 69.0, 'USC00519397')\n",
      "('2017-02-18', 0.0, 2543, 68.0, 'USC00519397')\n",
      "('2017-02-17', 0.0, 2542, 71.0, 'USC00519397')\n",
      "('2017-02-16', 0.07, 2541, 71.0, 'USC00519397')\n",
      "('2017-02-15', 0.0, 2540, 75.0, 'USC00519397')\n",
      "('2017-02-14', 0.0, 2539, 75.0, 'USC00519397')\n",
      "('2017-02-13', 0.01, 2538, 74.0, 'USC00519397')\n",
      "('2017-02-12', 2.62, 2537, 68.0, 'USC00519397')\n",
      "('2017-02-11', 0.31, 2536, 69.0, 'USC00519397')\n",
      "('2017-02-10', 0.0, 2535, 71.0, 'USC00519397')\n",
      "('2017-02-09', 0.0, 2534, 61.0, 'USC00519397')\n",
      "('2017-02-08', 0.0, 2533, 62.0, 'USC00519397')\n",
      "('2017-02-07', 0.51, 2532, 64.0, 'USC00519397')\n",
      "('2017-02-06', 0.0, 2531, 76.0, 'USC00519397')\n",
      "('2017-02-05', 0.0, 2530, 73.0, 'USC00519397')\n",
      "('2017-02-04', 0.0, 2529, 72.0, 'USC00519397')\n",
      "('2017-02-03', 0.0, 2528, 65.0, 'USC00519397')\n",
      "('2017-02-02', 0.0, 2527, 61.0, 'USC00519397')\n",
      "('2017-02-01', 0.0, 2526, 70.0, 'USC00519397')\n",
      "('2017-01-31', 0.0, 2525, 68.0, 'USC00519397')\n",
      "('2017-01-30', 0.0, 2524, 67.0, 'USC00519397')\n",
      "('2017-01-29', 0.18, 2523, 67.0, 'USC00519397')\n",
      "('2017-01-28', 0.0, 2522, 64.0, 'USC00519397')\n",
      "('2017-01-27', 0.0, 2521, 65.0, 'USC00519397')\n",
      "('2017-01-26', 0.0, 2520, 71.0, 'USC00519397')\n",
      "('2017-01-25', 0.03, 2519, 72.0, 'USC00519397')\n",
      "('2017-01-24', 0.04, 2518, 69.0, 'USC00519397')\n",
      "('2017-01-23', 0.0, 2517, 72.0, 'USC00519397')\n",
      "('2017-01-22', 0.16, 2516, 72.0, 'USC00519397')\n",
      "('2017-01-21', 0.0, 2515, 72.0, 'USC00519397')\n",
      "('2017-01-20', 0.0, 2514, 71.0, 'USC00519397')\n",
      "('2017-01-19', 0.0, 2513, 73.0, 'USC00519397')\n",
      "('2017-01-18', 0.0, 2512, 72.0, 'USC00519397')\n",
      "('2017-01-17', 0.0, 2511, 66.0, 'USC00519397')\n",
      "('2017-01-16', 0.0, 2510, 67.0, 'USC00519397')\n",
      "('2017-01-15', 0.0, 2509, 66.0, 'USC00519397')\n",
      "('2017-01-14', 0.0, 2508, 65.0, 'USC00519397')\n",
      "('2017-01-13', 0.0, 2507, 67.0, 'USC00519397')\n",
      "('2017-01-12', 0.0, 2506, 67.0, 'USC00519397')\n",
      "('2017-01-11', 0.0, 2505, 78.0, 'USC00519397')\n",
      "('2017-01-10', 0.0, 2504, 63.0, 'USC00519397')\n",
      "('2017-01-09', 0.0, 2503, 64.0, 'USC00519397')\n",
      "('2017-01-08', 0.0, 2502, 60.0, 'USC00519397')\n",
      "('2017-01-07', 0.0, 2501, 66.0, 'USC00519397')\n",
      "('2017-01-06', 0.0, 2500, 64.0, 'USC00519397')\n",
      "('2017-01-05', 0.0, 2499, 63.0, 'USC00519397')\n",
      "('2017-01-04', 0.0, 2498, 62.0, 'USC00519397')\n",
      "('2017-01-03', 0.0, 2497, 63.0, 'USC00519397')\n",
      "('2017-01-02', 0.0, 2496, 66.0, 'USC00519397')\n",
      "('2017-01-01', 0.0, 2495, 62.0, 'USC00519397')\n",
      "('2016-12-31', 0.01, 2494, 66.0, 'USC00519397')\n",
      "('2016-12-30', 0.12, 2493, 69.0, 'USC00519397')\n",
      "('2016-12-29', 0.04, 2492, 73.0, 'USC00519397')\n",
      "('2016-12-28', 0.02, 2491, 71.0, 'USC00519397')\n",
      "('2016-12-27', 0.0, 2490, 74.0, 'USC00519397')\n",
      "('2016-12-26', 0.02, 2489, 74.0, 'USC00519397')\n",
      "('2016-12-25', 0.0, 2488, 74.0, 'USC00519397')\n",
      "('2016-12-24', 0.01, 2487, 74.0, 'USC00519397')\n",
      "('2016-12-23', 0.01, 2486, 72.0, 'USC00519397')\n",
      "('2016-12-22', 0.01, 2485, 71.0, 'USC00519397')\n",
      "('2016-12-21', 0.0, 2484, 74.0, 'USC00519397')\n",
      "('2016-12-20', 0.0, 2483, 77.0, 'USC00519397')\n",
      "('2016-12-19', 0.01, 2482, 69.0, 'USC00519397')\n",
      "('2016-12-18', 0.13, 2481, 73.0, 'USC00519397')\n",
      "('2016-12-17', 0.01, 2480, 71.0, 'USC00519397')\n",
      "('2016-12-16', 0.0, 2479, 62.0, 'USC00519397')\n",
      "('2016-12-15', 0.0, 2478, 66.0, 'USC00519397')\n",
      "('2016-12-14', 0.03, 2477, 70.0, 'USC00519397')\n",
      "('2016-12-13', 0.05, 2476, 67.0, 'USC00519397')\n",
      "('2016-12-12', 0.01, 2475, 66.0, 'USC00519397')\n",
      "('2016-12-11', 0.04, 2474, 70.0, 'USC00519397')\n",
      "('2016-12-10', 0.05, 2473, 70.0, 'USC00519397')\n",
      "('2016-12-09', 0.52, 2472, 70.0, 'USC00519397')\n",
      "('2016-12-08', 0.03, 2471, 73.0, 'USC00519397')\n",
      "('2016-12-07', 0.0, 2470, 69.0, 'USC00519397')\n",
      "('2016-12-06', 0.02, 2469, 67.0, 'USC00519397')\n",
      "('2016-12-05', 0.43, 2468, 68.0, 'USC00519397')\n",
      "('2016-12-04', 0.03, 2467, 71.0, 'USC00519397')\n",
      "('2016-12-03', 0.0, 2466, 69.0, 'USC00519397')\n",
      "('2016-12-02', 0.03, 2465, 72.0, 'USC00519397')\n",
      "('2016-12-01', 0.12, 2464, 75.0, 'USC00519397')\n",
      "('2016-11-30', 0.14, 2463, 75.0, 'USC00519397')\n",
      "('2016-11-29', 0.0, 2462, 68.0, 'USC00519397')\n",
      "('2016-11-28', 0.01, 2461, 75.0, 'USC00519397')\n",
      "('2016-11-27', 0.0, 2460, 76.0, 'USC00519397')\n",
      "('2016-11-26', 0.05, 2459, 73.0, 'USC00519397')\n",
      "('2016-11-25', 0.05, 2458, 75.0, 'USC00519397')\n",
      "('2016-11-24', 0.05, 2457, 74.0, 'USC00519397')\n",
      "('2016-11-23', 0.14, 2456, 72.0, 'USC00519397')\n",
      "('2016-11-22', 0.13, 2455, 75.0, 'USC00519397')\n",
      "('2016-11-21', 0.01, 2454, 76.0, 'USC00519397')\n",
      "('2016-11-20', 0.05, 2453, 76.0, 'USC00519397')\n",
      "('2016-11-19', 0.03, 2452, 75.0, 'USC00519397')\n",
      "('2016-11-18', 0.0, 2451, 77.0, 'USC00519397')\n",
      "('2016-11-17', 0.0, 2450, 77.0, 'USC00519397')\n",
      "('2016-11-16', 0.0, 2449, 77.0, 'USC00519397')\n",
      "('2016-11-15', 0.0, 2448, 77.0, 'USC00519397')\n",
      "('2016-11-14', 0.0, 2447, 77.0, 'USC00519397')\n",
      "('2016-11-13', 0.0, 2446, 72.0, 'USC00519397')\n",
      "('2016-11-12', 0.0, 2445, 71.0, 'USC00519397')\n",
      "('2016-11-11', 0.0, 2444, 72.0, 'USC00519397')\n",
      "('2016-11-10', 0.0, 2443, 71.0, 'USC00519397')\n",
      "('2016-11-09', 0.0, 2442, 71.0, 'USC00519397')\n",
      "('2016-11-08', 0.07, 2441, 71.0, 'USC00519397')\n",
      "('2016-11-07', 0.0, 2440, 71.0, 'USC00519397')\n",
      "('2016-11-06', 0.0, 2439, 75.0, 'USC00519397')\n",
      "('2016-11-05', 0.0, 2438, 76.0, 'USC00519397')\n",
      "('2016-11-04', 0.0, 2437, 77.0, 'USC00519397')\n",
      "('2016-11-03', 0.0, 2436, 77.0, 'USC00519397')\n",
      "('2016-11-02', 0.0, 2435, 77.0, 'USC00519397')\n",
      "('2016-11-01', 0.0, 2434, 77.0, 'USC00519397')\n",
      "('2016-10-31', 0.03, 2433, 77.0, 'USC00519397')\n",
      "('2016-10-30', 0.24, 2432, 76.0, 'USC00519397')\n",
      "('2016-10-29', 0.0, 2431, 77.0, 'USC00519397')\n",
      "('2016-10-28', 0.0, 2430, 78.0, 'USC00519397')\n",
      "('2016-10-27', 0.0, 2429, 77.0, 'USC00519397')\n",
      "('2016-10-26', 0.0, 2428, 78.0, 'USC00519397')\n",
      "('2016-10-25', 0.03, 2427, 77.0, 'USC00519397')\n",
      "('2016-10-24', 0.0, 2426, 77.0, 'USC00519397')\n",
      "('2016-10-23', 0.01, 2425, 78.0, 'USC00519397')\n",
      "('2016-10-22', 0.15, 2424, 79.0, 'USC00519397')\n",
      "('2016-10-21', 0.05, 2423, 77.0, 'USC00519397')\n",
      "('2016-10-20', 0.0, 2422, 79.0, 'USC00519397')\n",
      "('2016-10-19', 0.0, 2421, 81.0, 'USC00519397')\n",
      "('2016-10-18', 0.0, 2420, 80.0, 'USC00519397')\n",
      "('2016-10-17', 0.01, 2419, 78.0, 'USC00519397')\n",
      "('2016-10-16', 0.0, 2418, 78.0, 'USC00519397')\n",
      "('2016-10-15', 0.0, 2417, 79.0, 'USC00519397')\n",
      "('2016-10-14', 0.0, 2416, 80.0, 'USC00519397')\n",
      "('2016-10-13', 0.0, 2415, 79.0, 'USC00519397')\n",
      "('2016-10-12', 0.0, 2414, 80.0, 'USC00519397')\n",
      "('2016-10-11', 0.0, 2413, 80.0, 'USC00519397')\n",
      "('2016-10-10', 0.0, 2412, 75.0, 'USC00519397')\n",
      "('2016-10-09', 0.0, 2411, 76.0, 'USC00519397')\n",
      "('2016-10-08', 0.0, 2410, 78.0, 'USC00519397')\n",
      "('2016-10-07', 0.0, 2409, 79.0, 'USC00519397')\n",
      "('2016-10-06', 0.0, 2408, 80.0, 'USC00519397')\n",
      "('2016-10-05', 0.0, 2407, 80.0, 'USC00519397')\n",
      "('2016-10-04', 0.0, 2406, 79.0, 'USC00519397')\n",
      "('2016-10-03', 0.0, 2405, 79.0, 'USC00519397')\n",
      "('2016-10-02', 0.0, 2404, 79.0, 'USC00519397')\n",
      "('2016-10-01', 0.0, 2403, 80.0, 'USC00519397')\n",
      "('2016-09-30', 0.0, 2402, 80.0, 'USC00519397')\n",
      "('2016-09-29', 0.0, 2401, 80.0, 'USC00519397')\n",
      "('2016-09-28', 0.0, 2400, 79.0, 'USC00519397')\n",
      "('2016-09-27', 0.02, 2399, 80.0, 'USC00519397')\n",
      "('2016-09-26', 0.06, 2398, 80.0, 'USC00519397')\n",
      "('2016-09-25', 0.0, 2397, 78.0, 'USC00519397')\n",
      "('2016-09-24', 0.0, 2396, 81.0, 'USC00519397')\n",
      "('2016-09-23', 0.0, 2395, 82.0, 'USC00519397')\n",
      "('2016-09-22', 0.02, 2394, 76.0, 'USC00519397')\n",
      "('2016-09-21', 0.0, 2393, 78.0, 'USC00519397')\n",
      "('2016-09-20', 0.0, 2392, 77.0, 'USC00519397')\n",
      "('2016-09-19', 0.0, 2391, 77.0, 'USC00519397')\n",
      "('2016-09-18', 0.0, 2390, 81.0, 'USC00519397')\n",
      "('2016-09-17', 0.05, 2389, 79.0, 'USC00519397')\n",
      "('2016-09-16', 0.06, 2388, 80.0, 'USC00519397')\n",
      "('2016-09-15', 0.42, 2387, 79.0, 'USC00519397')\n",
      "('2016-09-14', 1.32, 2386, 75.0, 'USC00519397')\n",
      "('2016-09-13', 0.02, 2385, 78.0, 'USC00519397')\n",
      "('2016-09-12', 0.0, 2384, 78.0, 'USC00519397')\n",
      "('2016-09-11', 0.05, 2383, 76.0, 'USC00519397')\n",
      "('2016-09-10', 0.0, 2382, 78.0, 'USC00519397')\n",
      "('2016-09-09', 0.03, 2381, 79.0, 'USC00519397')\n",
      "('2016-09-08', 0.0, 2380, 80.0, 'USC00519397')\n",
      "('2016-09-07', 0.05, 2379, 76.0, 'USC00519397')\n",
      "('2016-09-06', None, 2378, 76.0, 'USC00519397')\n",
      "('2016-09-05', None, 2377, 79.0, 'USC00519397')\n",
      "('2016-09-04', 0.03, 2376, 75.0, 'USC00519397')\n",
      "('2016-09-03', 0.0, 2375, 79.0, 'USC00519397')\n",
      "('2016-09-02', 0.0, 2374, 80.0, 'USC00519397')\n",
      "('2016-09-01', 0.0, 2373, 81.0, 'USC00519397')\n",
      "('2016-08-31', 0.13, 2372, 80.0, 'USC00519397')\n",
      "('2016-08-30', 0.0, 2371, 79.0, 'USC00519397')\n",
      "('2016-08-29', 0.0, 2370, 78.0, 'USC00519397')\n",
      "('2016-08-28', 0.01, 2369, 78.0, 'USC00519397')\n",
      "('2016-08-27', 0.0, 2368, 77.0, 'USC00519397')\n",
      "('2016-08-26', 0.0, 2367, 79.0, 'USC00519397')\n",
      "('2016-08-25', 0.08, 2366, 80.0, 'USC00519397')\n",
      "('2016-08-24', 0.08, 2365, 79.0, 'USC00519397')\n",
      "('2016-08-23', 0.0, 2364, 81.0, 'USC00519397')\n",
      "('2016-08-22', 0.4, 2363, 77.0, 'USC00519397')\n",
      "('2016-08-21', 0.12, 2362, 76.0, 'USC00519397')\n",
      "('2016-08-20', 0.0, 2361, 80.0, 'USC00519397')\n",
      "('2016-08-19', 0.04, 2360, 77.0, 'USC00519397')\n"
     ]
    }
   ],
   "source": [
    "# Design a query to retrieve the last 12 months of precipitation data and plot the results\n",
    "\n",
    "\n",
    "stn1_list = []\n",
    "# Calculate the date 1 year ago from the last data point in the database\n",
    "# Determined that the latest date is 2017-08-03 by ordering by descending order\n",
    "#multiple stations appreard with the same date so filtered by choosing 1 station.\n",
    "# Perform a query to retrieve the data and precipitation scores\n",
    "\n",
    "\n",
    "station1_past_year = session.query(Measurement.date,Measurement.prcp,Measurement.id,Measurement.tobs,Measurement.station).\\\n",
    "    filter(Measurement.station == 'USC00519397').order_by(Measurement.date.desc()).limit(365)\n",
    "for row in station1_past_year:\n",
    "    stn1_list.append(row)\n",
    "    print(row)\n",
    "    \n"
   ]
  },
  {
   "cell_type": "code",
   "execution_count": 12,
   "metadata": {},
   "outputs": [
    {
     "name": "stdout",
     "output_type": "stream",
     "text": [
      "2016-08-19\n"
     ]
    }
   ],
   "source": [
    "# After determining the latest date, used a limit to display 1 year (365 days)\n",
    "# Used index to determine the date of 1 year prior\n",
    "prev_year = station1_past_year[-1][0] \n",
    "print(prev_year)\n",
    "    "
   ]
  },
  {
   "cell_type": "code",
   "execution_count": 13,
   "metadata": {},
   "outputs": [],
   "source": [
    "# #pd.read_sql test\n",
    "\n",
    "# stmt = session.query(stn1_list).statement\n",
    "# print(stmt)\n",
    "# df = pd.read_sql_query(stmt,session.bind)\n",
    "# df.head(10)"
   ]
  },
  {
   "cell_type": "code",
   "execution_count": null,
   "metadata": {},
   "outputs": [],
   "source": []
  },
  {
   "cell_type": "code",
   "execution_count": 14,
   "metadata": {},
   "outputs": [
    {
     "data": {
      "image/png": "[encoded data removed]",
      "text/plain": [
       "<Figure size 720x720 with 1 Axes>"
      ]
     },
     "metadata": {
      "needs_background": "light"
     },
     "output_type": "display_data"
    }
   ],
   "source": [
    "#revisit\n",
    "\n",
    "# Save the query results as a Pandas DataFrame and set the index to the date column\n",
    "# Sort the dataframe by date\n",
    "# Use Pandas Plotting with Matplotlib to plot the data\n",
    "fig = plt.figure(figsize=(10,10))\n",
    "\n",
    "stn1_df = pd.DataFrame(stn1_list)\n",
    "#stn1_df = stn1_df.set_index('date')\n",
    "plt.title(\"Precip % of Station USC00519397 from 8/19/16 to 8/23/17\")\n",
    "plt.xlabel(\"Date\")\n",
    "plt.ylabel(\"Precipitation (Inches)\")\n",
    "plt.bar(stn1_df['date'],stn1_df['prcp'])\n",
    "\n",
    "\n",
    "plt.show()\n",
    "\n",
    "#stn1_df.head()"
   ]
  },
  {
   "cell_type": "code",
   "execution_count": null,
   "metadata": {},
   "outputs": [],
   "source": []
  },
  {
   "cell_type": "code",
   "execution_count": null,
   "metadata": {},
   "outputs": [],
   "source": []
  },
  {
   "cell_type": "code",
   "execution_count": 15,
   "metadata": {},
   "outputs": [
    {
     "data": {
      "text/html": [
       "<div>\n",
       "<style scoped>\n",
       "    .dataframe tbody tr th:only-of-type {\n",
       "        vertical-align: middle;\n",
       "    }\n",
       "\n",
       "    .dataframe tbody tr th {\n",
       "        vertical-align: top;\n",
       "    }\n",
       "\n",
       "    .dataframe thead th {\n",
       "        text-align: right;\n",
       "    }\n",
       "</style>\n",
       "<table border=\"1\" class=\"dataframe\">\n",
       "  <thead>\n",
       "    <tr style=\"text-align: right;\">\n",
       "      <th></th>\n",
       "      <th>prcp</th>\n",
       "      <th>id</th>\n",
       "      <th>tobs</th>\n",
       "    </tr>\n",
       "  </thead>\n",
       "  <tbody>\n",
       "    <tr>\n",
       "      <th>count</th>\n",
       "      <td>363.000000</td>\n",
       "      <td>365.000000</td>\n",
       "      <td>365.000000</td>\n",
       "    </tr>\n",
       "    <tr>\n",
       "      <th>mean</th>\n",
       "      <td>0.045868</td>\n",
       "      <td>2542.000000</td>\n",
       "      <td>75.235616</td>\n",
       "    </tr>\n",
       "    <tr>\n",
       "      <th>std</th>\n",
       "      <td>0.188743</td>\n",
       "      <td>105.510663</td>\n",
       "      <td>4.944677</td>\n",
       "    </tr>\n",
       "    <tr>\n",
       "      <th>min</th>\n",
       "      <td>0.000000</td>\n",
       "      <td>2360.000000</td>\n",
       "      <td>60.000000</td>\n",
       "    </tr>\n",
       "    <tr>\n",
       "      <th>25%</th>\n",
       "      <td>0.000000</td>\n",
       "      <td>2451.000000</td>\n",
       "      <td>72.000000</td>\n",
       "    </tr>\n",
       "    <tr>\n",
       "      <th>50%</th>\n",
       "      <td>0.000000</td>\n",
       "      <td>2542.000000</td>\n",
       "      <td>77.000000</td>\n",
       "    </tr>\n",
       "    <tr>\n",
       "      <th>75%</th>\n",
       "      <td>0.020000</td>\n",
       "      <td>2633.000000</td>\n",
       "      <td>79.000000</td>\n",
       "    </tr>\n",
       "    <tr>\n",
       "      <th>max</th>\n",
       "      <td>2.620000</td>\n",
       "      <td>2724.000000</td>\n",
       "      <td>87.000000</td>\n",
       "    </tr>\n",
       "  </tbody>\n",
       "</table>\n",
       "</div>"
      ],
      "text/plain": [
       "             prcp           id        tobs\n",
       "count  363.000000   365.000000  365.000000\n",
       "mean     0.045868  2542.000000   75.235616\n",
       "std      0.188743   105.510663    4.944677\n",
       "min      0.000000  2360.000000   60.000000\n",
       "25%      0.000000  2451.000000   72.000000\n",
       "50%      0.000000  2542.000000   77.000000\n",
       "75%      0.020000  2633.000000   79.000000\n",
       "max      2.620000  2724.000000   87.000000"
      ]
     },
     "execution_count": 15,
     "metadata": {},
     "output_type": "execute_result"
    }
   ],
   "source": [
    "# Use Pandas to calcualte the summary statistics for the precipitation data\n",
    "\n",
    "stats = pd.DataFrame(stn1_list)\n",
    "stats.describe()"
   ]
  },
  {
   "cell_type": "code",
   "execution_count": 16,
   "metadata": {},
   "outputs": [
    {
     "name": "stdout",
     "output_type": "stream",
     "text": [
      "[('USC00511918',), ('USC00513117',), ('USC00514830',), ('USC00516128',), ('USC00517948',), ('USC00518838',), ('USC00519281',), ('USC00519397',), ('USC00519523',)]\n"
     ]
    }
   ],
   "source": [
    "# Design a query to show how many stations are available in this dataset?\n",
    "\n",
    "station_query = session.query(Measurement.station).group_by(Measurement.station).all()\n",
    "print(station_query)"
   ]
  },
  {
   "cell_type": "code",
   "execution_count": 31,
   "metadata": {},
   "outputs": [
    {
     "data": {
      "text/plain": [
       "[('USC00519281', 2772),\n",
       " ('USC00519397', 2724),\n",
       " ('USC00513117', 2709),\n",
       " ('USC00519523', 2669),\n",
       " ('USC00516128', 2612),\n",
       " ('USC00514830', 2202),\n",
       " ('USC00511918', 1979),\n",
       " ('USC00517948', 1372),\n",
       " ('USC00518838', 511)]"
      ]
     },
     "execution_count": 31,
     "metadata": {},
     "output_type": "execute_result"
    }
   ],
   "source": [
    "# What are the most active stations? (i.e. what stations have the most rows)?\n",
    "# List the stations and the counts in descending order.\n",
    "\n",
    "station_count = session.query((Measurement.station),func.count(Measurement.station)).group_by(Measurement.station).order_by(func.count(Measurement.station).desc()).all()\n",
    "station_count\n",
    "\n",
    "\n"
   ]
  },
  {
   "cell_type": "code",
   "execution_count": 18,
   "metadata": {},
   "outputs": [
    {
     "name": "stdout",
     "output_type": "stream",
     "text": [
      "Lowest temp is(54.0,)\n",
      "Max temp is[(85.0,)]\n",
      "Average temp is[(71.66378066378067,)]\n"
     ]
    }
   ],
   "source": [
    "# Using the station id from the previous query, calculate the lowest temperature recorded, \n",
    "# highest temperature recorded, and average temperature of the most active station?\n",
    "\n",
    "#temporarily using USC00519397 until most active station is determined\n",
    "\n",
    "min_temp = session.query(func.min(Measurement.tobs)).filter(Measurement.station == 'USC00519281').all()\n",
    "max_temp = session.query(func.max(Measurement.tobs)).filter(Measurement.station == 'USC00519281').all()\n",
    "avg_temp = session.query(func.avg(Measurement.tobs)).filter(Measurement.station == 'USC00519281').all()\n",
    "\n",
    "print(\"Lowest temp is\" + str(min_temp[0]))\n",
    "print(\"Max temp is\" + str (max_temp))\n",
    "print(\"Average temp is\" + str(avg_temp))\n",
    "\n",
    "\n"
   ]
  },
  {
   "cell_type": "code",
   "execution_count": 19,
   "metadata": {},
   "outputs": [
    {
     "data": {
      "text/plain": [
       "Text(0.5, 0, 'Temperature')"
      ]
     },
     "execution_count": 19,
     "metadata": {},
     "output_type": "execute_result"
    },
    {
     "data": {
      "image/png": "[encoded data removed]",
      "text/plain": [
       "<Figure size 432x288 with 1 Axes>"
      ]
     },
     "metadata": {
      "needs_background": "light"
     },
     "output_type": "display_data"
    }
   ],
   "source": [
    "active_stn=[]\n",
    "\n",
    "# Choose the station with the highest number of temperature observations.\n",
    "station_tobs_count = session.query((Measurement.station),func.count(Measurement.tobs)).group_by(Measurement.station).order_by(func.count(Measurement.station)).all()\n",
    "station_tobs_count\n",
    "\n",
    "# Query the last 12 months of temperature observation data for this station and plot the results as a histogram\n",
    "\n",
    "active_stn_past_year = session.query(Measurement.date,Measurement.prcp,Measurement.id,Measurement.tobs,Measurement.station).\\\n",
    "    filter(Measurement.station == 'USC00519281').order_by(Measurement.date.desc()).limit(365)\n",
    "\n",
    "for row in active_stn_past_year:\n",
    "    active_stn.append(row)\n",
    "\n",
    "active_stn_df = pd.DataFrame(active_stn)\n",
    "\n",
    "active_tobs = active_stn_df[['date','tobs']]\n",
    "active_tobs.plot.hist(bins =12)\n",
    "plt.xlabel(\"Temperature\")\n",
    "\n"
   ]
  },
  {
   "cell_type": "markdown",
   "metadata": {},
   "source": [
    "## Bonus Challenge Assignment"
   ]
  },
  {
   "cell_type": "code",
   "execution_count": 20,
   "metadata": {},
   "outputs": [
    {
     "name": "stdout",
     "output_type": "stream",
     "text": [
      "[(62.0, 69.57142857142857, 74.0)]\n"
     ]
    }
   ],
   "source": [
    "# This function called `calc_temps` will accept start date and end date in the format '%Y-%m-%d' \n",
    "# and return the minimum, average, and maximum temperatures for that range of dates\n",
    "def calc_temps(start_date, end_date):\n",
    "    \"\"\"TMIN, TAVG, and TMAX for a list of dates.\n",
    "    \n",
    "    Args:\n",
    "        start_date (string): A date string in the format %Y-%m-%d\n",
    "        end_date (string): A date string in the format %Y-%m-%d\n",
    "        \n",
    "    Returns:\n",
    "        TMIN, TAVE, and TMAX\n",
    "    \"\"\"\n",
    "    \n",
    "    return session.query(func.min(Measurement.tobs), func.avg(Measurement.tobs), func.max(Measurement.tobs)).\\\n",
    "        filter(Measurement.date >= start_date).filter(Measurement.date <= end_date).all()\n",
    "\n",
    "# function usage example\n",
    "print(calc_temps('2012-02-28', '2012-03-05'))"
   ]
  },
  {
   "cell_type": "code",
   "execution_count": 21,
   "metadata": {},
   "outputs": [],
   "source": [
    "# Use your previous function `calc_temps` to calculate the tmin, tavg, and tmax \n",
    "# for your trip using the previous year's data for those same dates.\n"
   ]
  },
  {
   "cell_type": "code",
   "execution_count": 22,
   "metadata": {},
   "outputs": [],
   "source": [
    "# Plot the results from your previous query as a bar chart. \n",
    "# Use \"Trip Avg Temp\" as your Title\n",
    "# Use the average temperature for the y value\n",
    "# Use the peak-to-peak (tmax-tmin) value as the y error bar (yerr)\n"
   ]
  },
  {
   "cell_type": "code",
   "execution_count": 23,
   "metadata": {},
   "outputs": [],
   "source": [
    "# Calculate the total amount of rainfall per weather station for your trip dates using the previous year's matching dates.\n",
    "# Sort this in descending order by precipitation amount and list the station, name, latitude, longitude, and elevation\n",
    "\n"
   ]
  },
  {
   "cell_type": "code",
   "execution_count": 24,
   "metadata": {},
   "outputs": [
    {
     "data": {
      "text/plain": [
       "[(62.0, 69.15384615384616, 77.0)]"
      ]
     },
     "execution_count": 24,
     "metadata": {},
     "output_type": "execute_result"
    }
   ],
   "source": [
    "# Create a query that will calculate the daily normals \n",
    "# (i.e. the averages for tmin, tmax, and tavg for all historic data matching a specific month and day)\n",
    "\n",
    "def daily_normals(date):\n",
    "    \"\"\"Daily Normals.\n",
    "    \n",
    "    Args:\n",
    "        date (str): A date string in the format '%m-%d'\n",
    "        \n",
    "    Returns:\n",
    "        A list of tuples containing the daily normals, tmin, tavg, and tmax\n",
    "    \n",
    "    \"\"\"\n",
    "    \n",
    "    sel = [func.min(Measurement.tobs), func.avg(Measurement.tobs), func.max(Measurement.tobs)]\n",
    "    return session.query(*sel).filter(func.strftime(\"%m-%d\", Measurement.date) == date).all()\n",
    "    \n",
    "daily_normals(\"01-01\")"
   ]
  },
  {
   "cell_type": "code",
   "execution_count": 25,
   "metadata": {},
   "outputs": [],
   "source": [
    "# calculate the daily normals for your trip\n",
    "# push each tuple of calculations into a list called `normals`\n",
    "\n",
    "# Set the start and end date of the trip\n",
    "\n",
    "# Use the start and end date to create a range of dates\n",
    "\n",
    "# Stip off the year and save a list of %m-%d strings\n",
    "\n",
    "# Loop through the list of %m-%d strings and calculate the normals for each date\n"
   ]
  },
  {
   "cell_type": "code",
   "execution_count": 26,
   "metadata": {},
   "outputs": [],
   "source": [
    "# Load the previous query results into a Pandas DataFrame and add the `trip_dates` range as the `date` index\n"
   ]
  },
  {
   "cell_type": "code",
   "execution_count": 27,
   "metadata": {},
   "outputs": [],
   "source": [
    "# Plot the daily normals as an area plot with `stacked=False`\n"
   ]
  }
 ],
 "metadata": {
  "kernel_info": {
   "name": "python3"
  },
  "kernelspec": {
   "display_name": "Python 3",
   "language": "python",
   "name": "python3"
  },
  "language_info": {
   "codemirror_mode": {
    "name": "ipython",
    "version": 3
   },
   "file_extension": ".py",
   "mimetype": "text/x-python",
   "name": "python",
   "nbconvert_exporter": "python",
   "pygments_lexer": "ipython3",
   "version": "3.7.3"
  },
  "nteract": {
   "version": "0.12.3"
  },
  "varInspector": {
   "cols": {
    "lenName": 16,
    "lenType": 16,
    "lenVar": 40
   },
   "kernels_config": {
    "python": {
     "delete_cmd_postfix": "",
     "delete_cmd_prefix": "del ",
     "library": "var_list.py",
     "varRefreshCmd": "print(var_dic_list())"
    },
    "r": {
     "delete_cmd_postfix": ") ",
     "delete_cmd_prefix": "rm(",
     "library": "var_list.r",
     "varRefreshCmd": "cat(var_dic_list()) "
    }
   },
   "types_to_exclude": [
    "module",
    "function",
    "builtin_function_or_method",
    "instance",
    "_Feature"
   ],
   "window_display": false
  }
 },
 "nbformat": 4,
 "nbformat_minor": 2
}
